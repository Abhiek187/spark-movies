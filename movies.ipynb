{
 "cells": [
  {
   "cell_type": "code",
   "execution_count": null,
   "metadata": {},
   "outputs": [],
   "source": [
    "from constants import *\n",
    "from pyspark import SparkContext\n",
    "import requests\n",
    "import json\n",
    "\n",
    "# Start PySpark\n",
    "sc.stop() # stop any existing contexts\n",
    "sc = SparkContext.getOrCreate()\n",
    "base_api = \"https://api.themoviedb.org/3\"\n",
    "\n",
    "# Show the menu\n",
    "print(\"Welcome to Spark Movies!\")\n",
    "movie_query = input(\"Which movie would you like to see? \")\n",
    "\n",
    "# Search for a movie from TMDb\n",
    "req = requests.get(f\"{base_api}/search/movie?api_key={API_KEY}&language=en-US&query={movie_query}\")\n",
    "movies = json.loads(req.content)\n",
    "print(f\"Page {movies['page']}:\")\n",
    "\n",
    "for result in movies[\"results\"]:\n",
    "    print(f\"{result['title']} ({result['release_date']}) - {result['overview']}\\n\")\n",
    "\n",
    "# Stop PySpark\n",
    "sc.stop()"
   ]
  },
  {
   "cell_type": "code",
   "execution_count": null,
   "metadata": {},
   "outputs": [],
   "source": []
  }
 ],
 "metadata": {
  "kernelspec": {
   "display_name": "Python 3",
   "language": "python",
   "name": "python3"
  },
  "language_info": {
   "codemirror_mode": {
    "name": "ipython",
    "version": 3
   },
   "file_extension": ".py",
   "mimetype": "text/x-python",
   "name": "python",
   "nbconvert_exporter": "python",
   "pygments_lexer": "ipython3",
   "version": "3.6.9"
  }
 },
 "nbformat": 4,
 "nbformat_minor": 4
}
